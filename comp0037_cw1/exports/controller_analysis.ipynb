{
 "nbformat": 4,
 "nbformat_minor": 2,
 "metadata": {
  "language_info": {
   "name": "python",
   "codemirror_mode": {
    "name": "ipython",
    "version": 3
   }
  },
  "orig_nbformat": 2,
  "file_extension": ".py",
  "mimetype": "text/x-python",
  "name": "python",
  "npconvert_exporter": "python",
  "pygments_lexer": "ipython3",
  "version": 3
 },
 "cells": [
  {
   "cell_type": "code",
   "execution_count": null,
   "metadata": {},
   "outputs": [],
   "source": [
    "import pandas as pd\n",
    "import numpy as np\n",
    "\n",
    "import matplotlib\n",
    "import matplotlib.pyplot as plt"
   ]
  },
  {
   "cell_type": "code",
   "execution_count": null,
   "metadata": {},
   "outputs": [],
   "source": [
    "n_files = 1"
   ]
  },
  {
   "cell_type": "code",
   "execution_count": null,
   "metadata": {},
   "outputs": [],
   "source": [
    "for i in range(n_files):\n",
    "    data=pd.read_csv('log_data_{}.csv'.format(i+1))\n",
    "    t=np.arange(data.shape[0])*0.1\n",
    "    plt.plot(t, data['distance_error'])\n",
    "    plt.plot(t, data['angle_error'])\n",
    "    plt.plot(t, data['goal_x'], t, data['current_x'])\n",
    "    plt.plot(t, data['goal_y'], t, data['current_y'])\n",
    "    plt.plot(t, data['goal_theta'], t, data['theta'])"
   ]
  }
 ]
}