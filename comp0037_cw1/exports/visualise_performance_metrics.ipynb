{
 "nbformat": 4,
 "nbformat_minor": 2,
 "metadata": {
  "language_info": {
   "name": "python",
   "codemirror_mode": {
    "name": "ipython",
    "version": 3
   }
  },
  "orig_nbformat": 2,
  "file_extension": ".py",
  "mimetype": "text/x-python",
  "name": "python",
  "npconvert_exporter": "python",
  "pygments_lexer": "ipython3",
  "version": 3,
  "kernelspec": {
   "name": "python3",
   "display_name": "Python 3"
  }
 },
 "cells": [
  {
   "cell_type": "code",
   "execution_count": 5,
   "metadata": {},
   "outputs": [],
   "source": [
    "import pandas as pd\n",
    "import numpy as np\n",
    "\n",
    "import matplotlib\n",
    "import matplotlib.pyplot as plt"
   ]
  },
  {
   "cell_type": "code",
   "execution_count": 6,
   "metadata": {},
   "outputs": [],
   "source": [
    "metrics = pd.read_csv('performanceMetrics.csv')"
   ]
  },
  {
   "cell_type": "code",
   "execution_count": 32,
   "metadata": {},
   "outputs": [
    {
     "data": {
      "text/html": "<div>\n<style scoped>\n    .dataframe tbody tr th:only-of-type {\n        vertical-align: middle;\n    }\n\n    .dataframe tbody tr th {\n        vertical-align: top;\n    }\n\n    .dataframe thead th {\n        text-align: right;\n    }\n</style>\n<table border=\"1\" class=\"dataframe\">\n  <thead>\n    <tr style=\"text-align: right;\">\n      <th></th>\n      <th>PlanningAlgorithm</th>\n      <th>mapName</th>\n      <th>numberOfCellsVisited</th>\n      <th>maximumLengthOfQueue</th>\n      <th>totalAngleTurned</th>\n      <th>pathTravelCost</th>\n      <th>pathCardinality</th>\n    </tr>\n  </thead>\n  <tbody>\n    <tr>\n      <th>0</th>\n      <td>Breadth First (FIFO)</td>\n      <td>empty</td>\n      <td>2917</td>\n      <td>109</td>\n      <td>180.917143</td>\n      <td>71.218336</td>\n      <td>46</td>\n    </tr>\n    <tr>\n      <th>1</th>\n      <td>Depth First (LIFO)</td>\n      <td>empty</td>\n      <td>4255</td>\n      <td>1648</td>\n      <td>459.235116</td>\n      <td>359.090101</td>\n      <td>256</td>\n    </tr>\n    <tr>\n      <th>2</th>\n      <td>Greedy Planner</td>\n      <td>empty</td>\n      <td>180</td>\n      <td>136</td>\n      <td>268.531199</td>\n      <td>60.020456</td>\n      <td>46</td>\n    </tr>\n    <tr>\n      <th>3</th>\n      <td>Dijkstra's</td>\n      <td>empty</td>\n      <td>2980</td>\n      <td>150</td>\n      <td>226.048738</td>\n      <td>60.020456</td>\n      <td>46</td>\n    </tr>\n    <tr>\n      <th>4</th>\n      <td>A* Algorithm (Heuristic: 0)</td>\n      <td>empty</td>\n      <td>2980</td>\n      <td>150</td>\n      <td>226.048738</td>\n      <td>60.020456</td>\n      <td>46</td>\n    </tr>\n    <tr>\n      <th>5</th>\n      <td>A* Algorithm (Heuristic: Euclidean)</td>\n      <td>empty</td>\n      <td>1047</td>\n      <td>220</td>\n      <td>243.901398</td>\n      <td>60.020456</td>\n      <td>46</td>\n    </tr>\n    <tr>\n      <th>6</th>\n      <td>A* Algorithm (Heuristic: Octile)</td>\n      <td>empty</td>\n      <td>945</td>\n      <td>203</td>\n      <td>226.048738</td>\n      <td>60.020456</td>\n      <td>46</td>\n    </tr>\n    <tr>\n      <th>7</th>\n      <td>A* Algorithm (Heuristic: Manhattan)</td>\n      <td>empty</td>\n      <td>300</td>\n      <td>205</td>\n      <td>268.531199</td>\n      <td>60.020456</td>\n      <td>46</td>\n    </tr>\n    <tr>\n      <th>8</th>\n      <td>A* Algorithm (Heuristic: Constant = 20)</td>\n      <td>empty</td>\n      <td>2980</td>\n      <td>149</td>\n      <td>226.048738</td>\n      <td>60.020456</td>\n      <td>46</td>\n    </tr>\n    <tr>\n      <th>9</th>\n      <td>A* Algorithm (Heuristic: Constant = 5)</td>\n      <td>empty</td>\n      <td>2980</td>\n      <td>149</td>\n      <td>226.048738</td>\n      <td>60.020456</td>\n      <td>46</td>\n    </tr>\n    <tr>\n      <th>10</th>\n      <td>A* Algorithm (Heuristic: Constant = 1)</td>\n      <td>empty</td>\n      <td>2980</td>\n      <td>150</td>\n      <td>226.048738</td>\n      <td>60.020456</td>\n      <td>46</td>\n    </tr>\n  </tbody>\n</table>\n</div>",
      "text/plain": "                          PlanningAlgorithm mapName  numberOfCellsVisited  \\\n0                      Breadth First (FIFO)   empty                  2917   \n1                        Depth First (LIFO)   empty                  4255   \n2                            Greedy Planner   empty                   180   \n3                                Dijkstra's   empty                  2980   \n4               A* Algorithm (Heuristic: 0)   empty                  2980   \n5       A* Algorithm (Heuristic: Euclidean)   empty                  1047   \n6          A* Algorithm (Heuristic: Octile)   empty                   945   \n7       A* Algorithm (Heuristic: Manhattan)   empty                   300   \n8   A* Algorithm (Heuristic: Constant = 20)   empty                  2980   \n9    A* Algorithm (Heuristic: Constant = 5)   empty                  2980   \n10   A* Algorithm (Heuristic: Constant = 1)   empty                  2980   \n\n    maximumLengthOfQueue  totalAngleTurned  pathTravelCost  pathCardinality  \n0                    109        180.917143       71.218336               46  \n1                   1648        459.235116      359.090101              256  \n2                    136        268.531199       60.020456               46  \n3                    150        226.048738       60.020456               46  \n4                    150        226.048738       60.020456               46  \n5                    220        243.901398       60.020456               46  \n6                    203        226.048738       60.020456               46  \n7                    205        268.531199       60.020456               46  \n8                    149        226.048738       60.020456               46  \n9                    149        226.048738       60.020456               46  \n10                   150        226.048738       60.020456               46  "
     },
     "execution_count": 32,
     "metadata": {},
     "output_type": "execute_result"
    }
   ],
   "source": [
    "metrics.head(11)"
   ]
  },
  {
   "cell_type": "code",
   "execution_count": 26,
   "metadata": {},
   "outputs": [
    {
     "data": {
      "text/plain": "0.13333333333333333"
     },
     "execution_count": 26,
     "metadata": {},
     "output_type": "execute_result"
    }
   ],
   "source": [
    "width"
   ]
  },
  {
   "cell_type": "code",
   "execution_count": 61,
   "metadata": {},
   "outputs": [],
   "source": [
    "def plot_grouped_bar_graph(data, metric_col,  \n",
    "                           title=None,y_label=None,\n",
    "                           savefig=False, filename = None):\n",
    "    # List of Planning algorithms\n",
    "    planning_algorithms=['Breadth First (FIFO)','Depth First (LIFO)','Dijkstra\\'s',\n",
    "                         'A* Algorithm (Heuristic: Constant = 5)', 'A* Algorithm (Heuristic: Euclidean)',\n",
    "                         'A* Algorithm (Heuristic: Octile)', 'A* Algorithm (Heuristic: Manhattan)']\n",
    "\n",
    "    # Determine plot data and associated parameters\n",
    "    label_name=data['mapName'].unique()\n",
    "    n_maps=len(label_name)\n",
    "\n",
    "    bar_data=[]\n",
    "    for algorithm in planning_algorithms:\n",
    "        map_data=[]\n",
    "        for map_name in label_name:\n",
    "            map_data.append(data[(data['PlanningAlgorithm']==algorithm) & (data['mapName']==map_name)][metric_col].to_list()[0])\n",
    "        bar_data.append(map_data)\n",
    "\n",
    "    # Define x tick locations\n",
    "    x = np.arange(data['PlanningAlgorithm'].nunique()) \n",
    "    # Set width of the bar plot\n",
    "    width = 0.8/n_maps \n",
    "\n",
    "    # Plot the bar graph\n",
    "    print(bar_data)\n",
    "    fig, ax = plt.subplots(figsize=(14,10))\n",
    "    if (n_maps%2==0):\n",
    "        for i in range(n_maps//2):\n",
    "            ax.bar(x - (2*i+1)*width/2, means[n_maps//2 - (i+1)], width, label=label_name[n_maps//2 - (i+1)])\n",
    "            ax.bar(x + (2*i+1)*width/2, means[n_maps//2 + i], width, label=label_name[n_maps//2 + i])\n",
    "    else:\n",
    "        ax.bar(x, bar_data[n_maps//2], width,label=label_name[n_maps//2])\n",
    "        for i in range(n_maps//2):\n",
    "            ax.bar(x - (i+1)*width, bar_data[n_maps//2 - (i+1)], width,label=label_name[n_maps//2 - (i+1)])\n",
    "            ax.bar(x + (i+1)*width, bar_data[n_maps//2 + i], width,label=label_name[n_maps//2 + i])\n",
    "            \n",
    "    # Check if title was passed\n",
    "    if title is None:\n",
    "        title = metric_col + 'for each algorithm'\n",
    "    if y_label is None:\n",
    "        y_label = metric_col\n",
    "\n",
    "    # Add title, axis labels and tick labels\n",
    "    ax.set_ylabel(y_label)\n",
    "    ax.set_ylabel('Algorithms')\n",
    "    ax.set_title(title)\n",
    "    ax.set_xticks(x)\n",
    "    ax.set_xticklabels()\n",
    "    ax.legend()\n",
    "\n",
    "    # If savefig is True,  save the figure\n",
    "    if savefig:\n",
    "        if filename is None:\n",
    "            filename = title + '.png'\n",
    "        plt.savefig(filename)\n",
    "\n",
    "    fig.tight_layout()\n",
    "    plt.show()\n"
   ]
  },
  {
   "cell_type": "code",
   "execution_count": 62,
   "metadata": {},
   "outputs": [
    {
     "ename": "NameError",
     "evalue": "name 'bar_data' is not defined",
     "output_type": "error",
     "traceback": [
      "\u001b[1;31m---------------------------------------------------------------------------\u001b[0m",
      "\u001b[1;31mNameError\u001b[0m                                 Traceback (most recent call last)",
      "\u001b[1;32m<ipython-input-62-cd7a8985b988>\u001b[0m in \u001b[0;36m<module>\u001b[1;34m\u001b[0m\n\u001b[1;32m----> 1\u001b[1;33m \u001b[0mbar_data\u001b[0m\u001b[1;33m[\u001b[0m\u001b[1;36m0\u001b[0m\u001b[1;33m]\u001b[0m\u001b[1;33m\u001b[0m\u001b[1;33m\u001b[0m\u001b[0m\n\u001b[0m",
      "\u001b[1;31mNameError\u001b[0m: name 'bar_data' is not defined"
     ]
    }
   ],
   "source": [
    " bar_data[0]"
   ]
  },
  {
   "cell_type": "code",
   "execution_count": 63,
   "metadata": {},
   "outputs": [
    {
     "name": "stdout",
     "output_type": "stream",
     "text": "[[2917, 2917, 3271, 3271, 2254], [4255, 4255, 3135, 3135, 1523], [2980, 2738, 3420, 3522, 2391], [2980, 2738, 3420, 3522, 2391], [1047, 1121, 1826, 1919, 1826], [945, 1038, 1632, 1775, 1739], [300, 611, 780, 1292, 1352]]\n"
    },
    {
     "ename": "ValueError",
     "evalue": "shape mismatch: objects cannot be broadcast to a single shape",
     "output_type": "error",
     "traceback": [
      "\u001b[1;31m---------------------------------------------------------------------------\u001b[0m",
      "\u001b[1;31mValueError\u001b[0m                                Traceback (most recent call last)",
      "\u001b[1;32m<ipython-input-63-7f7c6363a1e3>\u001b[0m in \u001b[0;36m<module>\u001b[1;34m\u001b[0m\n\u001b[0;32m      1\u001b[0m \u001b[1;31m# numberOfCellsVisited\u001b[0m\u001b[1;33m\u001b[0m\u001b[1;33m\u001b[0m\u001b[1;33m\u001b[0m\u001b[0m\n\u001b[1;32m----> 2\u001b[1;33m \u001b[0mplot_grouped_bar_graph\u001b[0m\u001b[1;33m(\u001b[0m\u001b[0mmetrics\u001b[0m\u001b[1;33m,\u001b[0m \u001b[1;34m'numberOfCellsVisited'\u001b[0m\u001b[1;33m)\u001b[0m\u001b[1;33m\u001b[0m\u001b[1;33m\u001b[0m\u001b[0m\n\u001b[0m",
      "\u001b[1;32m<ipython-input-61-86bd5ab55c37>\u001b[0m in \u001b[0;36mplot_grouped_bar_graph\u001b[1;34m(data, metric_col, title, y_label, savefig, filename)\u001b[0m\n\u001b[0;32m     31\u001b[0m             \u001b[0max\u001b[0m\u001b[1;33m.\u001b[0m\u001b[0mbar\u001b[0m\u001b[1;33m(\u001b[0m\u001b[0mx\u001b[0m \u001b[1;33m+\u001b[0m \u001b[1;33m(\u001b[0m\u001b[1;36m2\u001b[0m\u001b[1;33m*\u001b[0m\u001b[0mi\u001b[0m\u001b[1;33m+\u001b[0m\u001b[1;36m1\u001b[0m\u001b[1;33m)\u001b[0m\u001b[1;33m*\u001b[0m\u001b[0mwidth\u001b[0m\u001b[1;33m/\u001b[0m\u001b[1;36m2\u001b[0m\u001b[1;33m,\u001b[0m \u001b[0mmeans\u001b[0m\u001b[1;33m[\u001b[0m\u001b[0mn_maps\u001b[0m\u001b[1;33m//\u001b[0m\u001b[1;36m2\u001b[0m \u001b[1;33m+\u001b[0m \u001b[0mi\u001b[0m\u001b[1;33m]\u001b[0m\u001b[1;33m,\u001b[0m \u001b[0mwidth\u001b[0m\u001b[1;33m,\u001b[0m \u001b[0mlabel\u001b[0m\u001b[1;33m=\u001b[0m\u001b[0mlabel_name\u001b[0m\u001b[1;33m[\u001b[0m\u001b[0mn_maps\u001b[0m\u001b[1;33m//\u001b[0m\u001b[1;36m2\u001b[0m \u001b[1;33m+\u001b[0m \u001b[0mi\u001b[0m\u001b[1;33m]\u001b[0m\u001b[1;33m)\u001b[0m\u001b[1;33m\u001b[0m\u001b[1;33m\u001b[0m\u001b[0m\n\u001b[0;32m     32\u001b[0m     \u001b[1;32melse\u001b[0m\u001b[1;33m:\u001b[0m\u001b[1;33m\u001b[0m\u001b[1;33m\u001b[0m\u001b[0m\n\u001b[1;32m---> 33\u001b[1;33m         \u001b[0max\u001b[0m\u001b[1;33m.\u001b[0m\u001b[0mbar\u001b[0m\u001b[1;33m(\u001b[0m\u001b[0mx\u001b[0m\u001b[1;33m,\u001b[0m \u001b[0mbar_data\u001b[0m\u001b[1;33m[\u001b[0m\u001b[0mn_maps\u001b[0m\u001b[1;33m//\u001b[0m\u001b[1;36m2\u001b[0m\u001b[1;33m]\u001b[0m\u001b[1;33m,\u001b[0m \u001b[0mwidth\u001b[0m\u001b[1;33m,\u001b[0m\u001b[0mlabel\u001b[0m\u001b[1;33m=\u001b[0m\u001b[0mlabel_name\u001b[0m\u001b[1;33m[\u001b[0m\u001b[0mn_maps\u001b[0m\u001b[1;33m//\u001b[0m\u001b[1;36m2\u001b[0m\u001b[1;33m]\u001b[0m\u001b[1;33m)\u001b[0m\u001b[1;33m\u001b[0m\u001b[1;33m\u001b[0m\u001b[0m\n\u001b[0m\u001b[0;32m     34\u001b[0m         \u001b[1;32mfor\u001b[0m \u001b[0mi\u001b[0m \u001b[1;32min\u001b[0m \u001b[0mrange\u001b[0m\u001b[1;33m(\u001b[0m\u001b[0mn_maps\u001b[0m\u001b[1;33m//\u001b[0m\u001b[1;36m2\u001b[0m\u001b[1;33m)\u001b[0m\u001b[1;33m:\u001b[0m\u001b[1;33m\u001b[0m\u001b[1;33m\u001b[0m\u001b[0m\n\u001b[0;32m     35\u001b[0m             \u001b[0max\u001b[0m\u001b[1;33m.\u001b[0m\u001b[0mbar\u001b[0m\u001b[1;33m(\u001b[0m\u001b[0mx\u001b[0m \u001b[1;33m-\u001b[0m \u001b[1;33m(\u001b[0m\u001b[0mi\u001b[0m\u001b[1;33m+\u001b[0m\u001b[1;36m1\u001b[0m\u001b[1;33m)\u001b[0m\u001b[1;33m*\u001b[0m\u001b[0mwidth\u001b[0m\u001b[1;33m,\u001b[0m \u001b[0mbar_data\u001b[0m\u001b[1;33m[\u001b[0m\u001b[0mn_maps\u001b[0m\u001b[1;33m//\u001b[0m\u001b[1;36m2\u001b[0m \u001b[1;33m-\u001b[0m \u001b[1;33m(\u001b[0m\u001b[0mi\u001b[0m\u001b[1;33m+\u001b[0m\u001b[1;36m1\u001b[0m\u001b[1;33m)\u001b[0m\u001b[1;33m]\u001b[0m\u001b[1;33m,\u001b[0m \u001b[0mwidth\u001b[0m\u001b[1;33m,\u001b[0m\u001b[0mlabel\u001b[0m\u001b[1;33m=\u001b[0m\u001b[0mlabel_name\u001b[0m\u001b[1;33m[\u001b[0m\u001b[0mn_maps\u001b[0m\u001b[1;33m//\u001b[0m\u001b[1;36m2\u001b[0m \u001b[1;33m-\u001b[0m \u001b[1;33m(\u001b[0m\u001b[0mi\u001b[0m\u001b[1;33m+\u001b[0m\u001b[1;36m1\u001b[0m\u001b[1;33m)\u001b[0m\u001b[1;33m]\u001b[0m\u001b[1;33m)\u001b[0m\u001b[1;33m\u001b[0m\u001b[1;33m\u001b[0m\u001b[0m\n",
      "\u001b[1;32m~\\AppData\\Local\\Programs\\Python\\Python37\\lib\\site-packages\\matplotlib\\__init__.py\u001b[0m in \u001b[0;36minner\u001b[1;34m(ax, data, *args, **kwargs)\u001b[0m\n\u001b[0;32m   1597\u001b[0m     \u001b[1;32mdef\u001b[0m \u001b[0minner\u001b[0m\u001b[1;33m(\u001b[0m\u001b[0max\u001b[0m\u001b[1;33m,\u001b[0m \u001b[1;33m*\u001b[0m\u001b[0margs\u001b[0m\u001b[1;33m,\u001b[0m \u001b[0mdata\u001b[0m\u001b[1;33m=\u001b[0m\u001b[1;32mNone\u001b[0m\u001b[1;33m,\u001b[0m \u001b[1;33m**\u001b[0m\u001b[0mkwargs\u001b[0m\u001b[1;33m)\u001b[0m\u001b[1;33m:\u001b[0m\u001b[1;33m\u001b[0m\u001b[1;33m\u001b[0m\u001b[0m\n\u001b[0;32m   1598\u001b[0m         \u001b[1;32mif\u001b[0m \u001b[0mdata\u001b[0m \u001b[1;32mis\u001b[0m \u001b[1;32mNone\u001b[0m\u001b[1;33m:\u001b[0m\u001b[1;33m\u001b[0m\u001b[1;33m\u001b[0m\u001b[0m\n\u001b[1;32m-> 1599\u001b[1;33m             \u001b[1;32mreturn\u001b[0m \u001b[0mfunc\u001b[0m\u001b[1;33m(\u001b[0m\u001b[0max\u001b[0m\u001b[1;33m,\u001b[0m \u001b[1;33m*\u001b[0m\u001b[0mmap\u001b[0m\u001b[1;33m(\u001b[0m\u001b[0msanitize_sequence\u001b[0m\u001b[1;33m,\u001b[0m \u001b[0margs\u001b[0m\u001b[1;33m)\u001b[0m\u001b[1;33m,\u001b[0m \u001b[1;33m**\u001b[0m\u001b[0mkwargs\u001b[0m\u001b[1;33m)\u001b[0m\u001b[1;33m\u001b[0m\u001b[1;33m\u001b[0m\u001b[0m\n\u001b[0m\u001b[0;32m   1600\u001b[0m \u001b[1;33m\u001b[0m\u001b[0m\n\u001b[0;32m   1601\u001b[0m         \u001b[0mbound\u001b[0m \u001b[1;33m=\u001b[0m \u001b[0mnew_sig\u001b[0m\u001b[1;33m.\u001b[0m\u001b[0mbind\u001b[0m\u001b[1;33m(\u001b[0m\u001b[0max\u001b[0m\u001b[1;33m,\u001b[0m \u001b[1;33m*\u001b[0m\u001b[0margs\u001b[0m\u001b[1;33m,\u001b[0m \u001b[1;33m**\u001b[0m\u001b[0mkwargs\u001b[0m\u001b[1;33m)\u001b[0m\u001b[1;33m\u001b[0m\u001b[1;33m\u001b[0m\u001b[0m\n",
      "\u001b[1;32m~\\AppData\\Local\\Programs\\Python\\Python37\\lib\\site-packages\\matplotlib\\axes\\_axes.py\u001b[0m in \u001b[0;36mbar\u001b[1;34m(self, x, height, width, bottom, align, **kwargs)\u001b[0m\n\u001b[0;32m   2372\u001b[0m         x, height, width, y, linewidth = np.broadcast_arrays(\n\u001b[0;32m   2373\u001b[0m             \u001b[1;31m# Make args iterable too.\u001b[0m\u001b[1;33m\u001b[0m\u001b[1;33m\u001b[0m\u001b[1;33m\u001b[0m\u001b[0m\n\u001b[1;32m-> 2374\u001b[1;33m             np.atleast_1d(x), height, width, y, linewidth)\n\u001b[0m\u001b[0;32m   2375\u001b[0m \u001b[1;33m\u001b[0m\u001b[0m\n\u001b[0;32m   2376\u001b[0m         \u001b[1;31m# Now that units have been converted, set the tick locations.\u001b[0m\u001b[1;33m\u001b[0m\u001b[1;33m\u001b[0m\u001b[1;33m\u001b[0m\u001b[0m\n",
      "\u001b[1;32m<__array_function__ internals>\u001b[0m in \u001b[0;36mbroadcast_arrays\u001b[1;34m(*args, **kwargs)\u001b[0m\n",
      "\u001b[1;32m~\\AppData\\Local\\Programs\\Python\\Python37\\lib\\site-packages\\numpy\\lib\\stride_tricks.py\u001b[0m in \u001b[0;36mbroadcast_arrays\u001b[1;34m(*args, **kwargs)\u001b[0m\n\u001b[0;32m    262\u001b[0m     \u001b[0margs\u001b[0m \u001b[1;33m=\u001b[0m \u001b[1;33m[\u001b[0m\u001b[0mnp\u001b[0m\u001b[1;33m.\u001b[0m\u001b[0marray\u001b[0m\u001b[1;33m(\u001b[0m\u001b[0m_m\u001b[0m\u001b[1;33m,\u001b[0m \u001b[0mcopy\u001b[0m\u001b[1;33m=\u001b[0m\u001b[1;32mFalse\u001b[0m\u001b[1;33m,\u001b[0m \u001b[0msubok\u001b[0m\u001b[1;33m=\u001b[0m\u001b[0msubok\u001b[0m\u001b[1;33m)\u001b[0m \u001b[1;32mfor\u001b[0m \u001b[0m_m\u001b[0m \u001b[1;32min\u001b[0m \u001b[0margs\u001b[0m\u001b[1;33m]\u001b[0m\u001b[1;33m\u001b[0m\u001b[1;33m\u001b[0m\u001b[0m\n\u001b[0;32m    263\u001b[0m \u001b[1;33m\u001b[0m\u001b[0m\n\u001b[1;32m--> 264\u001b[1;33m     \u001b[0mshape\u001b[0m \u001b[1;33m=\u001b[0m \u001b[0m_broadcast_shape\u001b[0m\u001b[1;33m(\u001b[0m\u001b[1;33m*\u001b[0m\u001b[0margs\u001b[0m\u001b[1;33m)\u001b[0m\u001b[1;33m\u001b[0m\u001b[1;33m\u001b[0m\u001b[0m\n\u001b[0m\u001b[0;32m    265\u001b[0m \u001b[1;33m\u001b[0m\u001b[0m\n\u001b[0;32m    266\u001b[0m     \u001b[1;32mif\u001b[0m \u001b[0mall\u001b[0m\u001b[1;33m(\u001b[0m\u001b[0marray\u001b[0m\u001b[1;33m.\u001b[0m\u001b[0mshape\u001b[0m \u001b[1;33m==\u001b[0m \u001b[0mshape\u001b[0m \u001b[1;32mfor\u001b[0m \u001b[0marray\u001b[0m \u001b[1;32min\u001b[0m \u001b[0margs\u001b[0m\u001b[1;33m)\u001b[0m\u001b[1;33m:\u001b[0m\u001b[1;33m\u001b[0m\u001b[1;33m\u001b[0m\u001b[0m\n",
      "\u001b[1;32m~\\AppData\\Local\\Programs\\Python\\Python37\\lib\\site-packages\\numpy\\lib\\stride_tricks.py\u001b[0m in \u001b[0;36m_broadcast_shape\u001b[1;34m(*args)\u001b[0m\n\u001b[0;32m    189\u001b[0m     \u001b[1;31m# use the old-iterator because np.nditer does not handle size 0 arrays\u001b[0m\u001b[1;33m\u001b[0m\u001b[1;33m\u001b[0m\u001b[1;33m\u001b[0m\u001b[0m\n\u001b[0;32m    190\u001b[0m     \u001b[1;31m# consistently\u001b[0m\u001b[1;33m\u001b[0m\u001b[1;33m\u001b[0m\u001b[1;33m\u001b[0m\u001b[0m\n\u001b[1;32m--> 191\u001b[1;33m     \u001b[0mb\u001b[0m \u001b[1;33m=\u001b[0m \u001b[0mnp\u001b[0m\u001b[1;33m.\u001b[0m\u001b[0mbroadcast\u001b[0m\u001b[1;33m(\u001b[0m\u001b[1;33m*\u001b[0m\u001b[0margs\u001b[0m\u001b[1;33m[\u001b[0m\u001b[1;33m:\u001b[0m\u001b[1;36m32\u001b[0m\u001b[1;33m]\u001b[0m\u001b[1;33m)\u001b[0m\u001b[1;33m\u001b[0m\u001b[1;33m\u001b[0m\u001b[0m\n\u001b[0m\u001b[0;32m    192\u001b[0m     \u001b[1;31m# unfortunately, it cannot handle 32 or more arguments directly\u001b[0m\u001b[1;33m\u001b[0m\u001b[1;33m\u001b[0m\u001b[1;33m\u001b[0m\u001b[0m\n\u001b[0;32m    193\u001b[0m     \u001b[1;32mfor\u001b[0m \u001b[0mpos\u001b[0m \u001b[1;32min\u001b[0m \u001b[0mrange\u001b[0m\u001b[1;33m(\u001b[0m\u001b[1;36m32\u001b[0m\u001b[1;33m,\u001b[0m \u001b[0mlen\u001b[0m\u001b[1;33m(\u001b[0m\u001b[0margs\u001b[0m\u001b[1;33m)\u001b[0m\u001b[1;33m,\u001b[0m \u001b[1;36m31\u001b[0m\u001b[1;33m)\u001b[0m\u001b[1;33m:\u001b[0m\u001b[1;33m\u001b[0m\u001b[1;33m\u001b[0m\u001b[0m\n",
      "\u001b[1;31mValueError\u001b[0m: shape mismatch: objects cannot be broadcast to a single shape"
     ]
    }
   ],
   "source": [
    "# numberOfCellsVisited\n",
    "plot_grouped_bar_graph(metrics, 'numberOfCellsVisited')"
   ]
  },
  {
   "cell_type": "code",
   "execution_count": 3,
   "metadata": {},
   "outputs": [],
   "source": [
    "# totalAngleTurned\n"
   ]
  },
  {
   "cell_type": "code",
   "execution_count": null,
   "metadata": {},
   "outputs": [],
   "source": [
    "# maximumLengthOfQueue\n"
   ]
  },
  {
   "cell_type": "code",
   "execution_count": null,
   "metadata": {},
   "outputs": [],
   "source": [
    "# pathTravelCost\n"
   ]
  },
  {
   "cell_type": "code",
   "execution_count": 2,
   "metadata": {},
   "outputs": [],
   "source": [
    "# pathCardinality\n",
    "\n"
   ]
  },
  {
   "cell_type": "code",
   "execution_count": null,
   "metadata": {},
   "outputs": [],
   "source": []
  },
  {
   "cell_type": "code",
   "execution_count": null,
   "metadata": {},
   "outputs": [],
   "source": []
  }
 ]
}